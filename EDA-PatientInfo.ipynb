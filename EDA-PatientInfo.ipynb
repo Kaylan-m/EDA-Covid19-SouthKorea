{
 "cells": [
  {
   "cell_type": "markdown",
   "id": "6a5fc4a1",
   "metadata": {},
   "source": [
    "# Analisis Data With Python\n",
    "\n",
    "Melakukan Visualisasi Dari Data PatientInfo.xls"
   ]
  },
  {
   "cell_type": "markdown",
   "id": "f702dc3b",
   "metadata": {},
   "source": [
    "# Oleh Kelompok : 9\n",
    "\n",
    "    Kayla Nahda Muadzah_21343053\n",
    "    Salsabilla Ahmad_21343072"
   ]
  },
  {
   "cell_type": "markdown",
   "id": "279bd040",
   "metadata": {},
   "source": [
    "# Table Of Content\n",
    "    1. Import Data\n",
    "    2. Analyzing Individual Feature Patterns Using Visualization\n",
    "    3. Descriptive Analysis\n",
    "    4. Basic Grouping\n",
    "    5. Correlation\n",
    "    6. Analisis Varians\n"
   ]
  },
  {
   "cell_type": "raw",
   "id": "8606de16",
   "metadata": {},
   "source": [
    " Bagaimana Visualisasi Pada Data PatientInfo ??"
   ]
  },
  {
   "cell_type": "markdown",
   "id": "cea819d2",
   "metadata": {},
   "source": [
    "# 1. Import Data"
   ]
  },
  {
   "cell_type": "code",
   "execution_count": 1,
   "id": "c0cd0b36",
   "metadata": {},
   "outputs": [],
   "source": [
    "import pandas as pd\n",
    "import numpy as np\n",
    "import matplotlib.pyplot as plt"
   ]
  },
  {
   "cell_type": "raw",
   "id": "8840a891",
   "metadata": {},
   "source": [
    "#Importkan Data Dari File Excel PatientInfo"
   ]
  },
  {
   "cell_type": "code",
   "execution_count": 2,
   "id": "01d2b859",
   "metadata": {
    "scrolled": true
   },
   "outputs": [
    {
     "data": {
      "text/html": [
       "<div>\n",
       "<style scoped>\n",
       "    .dataframe tbody tr th:only-of-type {\n",
       "        vertical-align: middle;\n",
       "    }\n",
       "\n",
       "    .dataframe tbody tr th {\n",
       "        vertical-align: top;\n",
       "    }\n",
       "\n",
       "    .dataframe thead th {\n",
       "        text-align: right;\n",
       "    }\n",
       "</style>\n",
       "<table border=\"1\" class=\"dataframe\">\n",
       "  <thead>\n",
       "    <tr style=\"text-align: right;\">\n",
       "      <th></th>\n",
       "      <th>patient_id</th>\n",
       "      <th>sex</th>\n",
       "      <th>age</th>\n",
       "      <th>country</th>\n",
       "      <th>province</th>\n",
       "      <th>city</th>\n",
       "      <th>infection_case</th>\n",
       "      <th>infected_by</th>\n",
       "      <th>contact_number</th>\n",
       "      <th>symptom_onset_date</th>\n",
       "      <th>confirmed_date</th>\n",
       "      <th>released_date</th>\n",
       "      <th>deceased_date</th>\n",
       "      <th>state</th>\n",
       "    </tr>\n",
       "  </thead>\n",
       "  <tbody>\n",
       "    <tr>\n",
       "      <th>0</th>\n",
       "      <td>1000000001</td>\n",
       "      <td>male</td>\n",
       "      <td>50s</td>\n",
       "      <td>Korea</td>\n",
       "      <td>Seoul</td>\n",
       "      <td>Gangseo-gu</td>\n",
       "      <td>overseas inflow</td>\n",
       "      <td>NaN</td>\n",
       "      <td>75</td>\n",
       "      <td>2020-01-22 00:00:00</td>\n",
       "      <td>2020-01-23</td>\n",
       "      <td>2020-02-05</td>\n",
       "      <td>NaT</td>\n",
       "      <td>released</td>\n",
       "    </tr>\n",
       "    <tr>\n",
       "      <th>1</th>\n",
       "      <td>1000000002</td>\n",
       "      <td>male</td>\n",
       "      <td>30s</td>\n",
       "      <td>Korea</td>\n",
       "      <td>Seoul</td>\n",
       "      <td>Jungnang-gu</td>\n",
       "      <td>overseas inflow</td>\n",
       "      <td>NaN</td>\n",
       "      <td>31</td>\n",
       "      <td>NaN</td>\n",
       "      <td>2020-01-30</td>\n",
       "      <td>2020-03-02</td>\n",
       "      <td>NaT</td>\n",
       "      <td>released</td>\n",
       "    </tr>\n",
       "    <tr>\n",
       "      <th>2</th>\n",
       "      <td>1000000003</td>\n",
       "      <td>male</td>\n",
       "      <td>50s</td>\n",
       "      <td>Korea</td>\n",
       "      <td>Seoul</td>\n",
       "      <td>Jongno-gu</td>\n",
       "      <td>contact with patient</td>\n",
       "      <td>2002000001</td>\n",
       "      <td>17</td>\n",
       "      <td>NaN</td>\n",
       "      <td>2020-01-30</td>\n",
       "      <td>2020-02-19</td>\n",
       "      <td>NaT</td>\n",
       "      <td>released</td>\n",
       "    </tr>\n",
       "    <tr>\n",
       "      <th>3</th>\n",
       "      <td>1000000004</td>\n",
       "      <td>male</td>\n",
       "      <td>20s</td>\n",
       "      <td>Korea</td>\n",
       "      <td>Seoul</td>\n",
       "      <td>Mapo-gu</td>\n",
       "      <td>overseas inflow</td>\n",
       "      <td>NaN</td>\n",
       "      <td>9</td>\n",
       "      <td>2020-01-26 00:00:00</td>\n",
       "      <td>2020-01-30</td>\n",
       "      <td>2020-02-15</td>\n",
       "      <td>NaT</td>\n",
       "      <td>released</td>\n",
       "    </tr>\n",
       "    <tr>\n",
       "      <th>4</th>\n",
       "      <td>1000000005</td>\n",
       "      <td>female</td>\n",
       "      <td>20s</td>\n",
       "      <td>Korea</td>\n",
       "      <td>Seoul</td>\n",
       "      <td>Seongbuk-gu</td>\n",
       "      <td>contact with patient</td>\n",
       "      <td>1000000002</td>\n",
       "      <td>2</td>\n",
       "      <td>NaN</td>\n",
       "      <td>2020-01-31</td>\n",
       "      <td>2020-02-24</td>\n",
       "      <td>NaT</td>\n",
       "      <td>released</td>\n",
       "    </tr>\n",
       "  </tbody>\n",
       "</table>\n",
       "</div>"
      ],
      "text/plain": [
       "   patient_id     sex  age country province         city  \\\n",
       "0  1000000001    male  50s   Korea    Seoul   Gangseo-gu   \n",
       "1  1000000002    male  30s   Korea    Seoul  Jungnang-gu   \n",
       "2  1000000003    male  50s   Korea    Seoul    Jongno-gu   \n",
       "3  1000000004    male  20s   Korea    Seoul      Mapo-gu   \n",
       "4  1000000005  female  20s   Korea    Seoul  Seongbuk-gu   \n",
       "\n",
       "         infection_case infected_by contact_number   symptom_onset_date  \\\n",
       "0       overseas inflow         NaN             75  2020-01-22 00:00:00   \n",
       "1       overseas inflow         NaN             31                  NaN   \n",
       "2  contact with patient  2002000001             17                  NaN   \n",
       "3       overseas inflow         NaN              9  2020-01-26 00:00:00   \n",
       "4  contact with patient  1000000002              2                  NaN   \n",
       "\n",
       "  confirmed_date released_date deceased_date     state  \n",
       "0     2020-01-23    2020-02-05           NaT  released  \n",
       "1     2020-01-30    2020-03-02           NaT  released  \n",
       "2     2020-01-30    2020-02-19           NaT  released  \n",
       "3     2020-01-30    2020-02-15           NaT  released  \n",
       "4     2020-01-31    2020-02-24           NaT  released  "
      ]
     },
     "execution_count": 2,
     "metadata": {},
     "output_type": "execute_result"
    }
   ],
   "source": [
    "df = pd.read_excel(\"C:/Users/ASUS/Documents/Kayla's/Semester 4/Data Science/Big Data Covid-19 Korea/Validasi Data/PatientInfo.xlsx\")\n",
    "df.head()"
   ]
  },
  {
   "cell_type": "raw",
   "id": "778127f1",
   "metadata": {},
   "source": [
    "# 5 rows * 14 Colums"
   ]
  },
  {
   "cell_type": "code",
   "execution_count": 3,
   "id": "f01fd785",
   "metadata": {},
   "outputs": [
    {
     "data": {
      "text/plain": [
       "patient_id                     int64\n",
       "sex                           object\n",
       "age                           object\n",
       "country                       object\n",
       "province                      object\n",
       "city                          object\n",
       "infection_case                object\n",
       "infected_by                   object\n",
       "contact_number                object\n",
       "symptom_onset_date            object\n",
       "confirmed_date        datetime64[ns]\n",
       "released_date         datetime64[ns]\n",
       "deceased_date         datetime64[ns]\n",
       "state                         object\n",
       "dtype: object"
      ]
     },
     "execution_count": 3,
     "metadata": {},
     "output_type": "execute_result"
    }
   ],
   "source": [
    "df.dtypes"
   ]
  },
  {
   "cell_type": "markdown",
   "id": "3ac218da",
   "metadata": {},
   "source": [
    "# 2. Analyzing Individual Feature Patterns Using Visualization"
   ]
  },
  {
   "cell_type": "markdown",
   "id": "48e3f85d",
   "metadata": {},
   "source": [
    "#Impor paket visualisasi \"Matplotlib\" dan \"Seaborn\". Jangan lupa tentang \"%matplotlib inline\" untuk memplot di notebook Jupyter."
   ]
  },
  {
   "cell_type": "code",
   "execution_count": 4,
   "id": "7d1627db",
   "metadata": {},
   "outputs": [],
   "source": [
    "import matplotlib.pyplot as plt\n",
    "import seaborn as sns\n",
    "%matplotlib inline "
   ]
  },
  {
   "cell_type": "markdown",
   "id": "6a42b044",
   "metadata": {},
   "source": [
    "#Tentukan MEtode Visualisasi Variabel dari Data Excel Tsb."
   ]
  },
  {
   "cell_type": "code",
   "execution_count": 5,
   "id": "024aea80",
   "metadata": {},
   "outputs": [
    {
     "name": "stdout",
     "output_type": "stream",
     "text": [
      "patient_id                     int64\n",
      "sex                           object\n",
      "age                           object\n",
      "country                       object\n",
      "province                      object\n",
      "city                          object\n",
      "infection_case                object\n",
      "infected_by                   object\n",
      "contact_number                object\n",
      "symptom_onset_date            object\n",
      "confirmed_date        datetime64[ns]\n",
      "released_date         datetime64[ns]\n",
      "deceased_date         datetime64[ns]\n",
      "state                         object\n",
      "dtype: object\n"
     ]
    }
   ],
   "source": [
    "# list the data types for each column\n",
    "print(df.dtypes)"
   ]
  },
  {
   "cell_type": "raw",
   "id": "e152c528",
   "metadata": {},
   "source": [
    "    Question #1\n",
    "    Tipe Data Yang Digunakan untuk Kolom patient_id ?"
   ]
  },
  {
   "cell_type": "code",
   "execution_count": 6,
   "id": "9078809d",
   "metadata": {},
   "outputs": [
    {
     "data": {
      "text/plain": [
       "dtype('int64')"
      ]
     },
     "execution_count": 6,
     "metadata": {},
     "output_type": "execute_result"
    }
   ],
   "source": [
    "# Write your code below and press Shift+Enter to execute \n",
    "df['patient_id'].dtypes"
   ]
  },
  {
   "cell_type": "markdown",
   "id": "4d453490",
   "metadata": {},
   "source": [
    "Tipe Data Yang Digunakan Pada Colom patient_id, bertipe int64."
   ]
  },
  {
   "cell_type": "markdown",
   "id": "4dfc9425",
   "metadata": {},
   "source": [
    "Misalnya, kita dapat menghitung korelasi antara variabel bertipe \"int64\" menggunakan metode \"corr\":"
   ]
  },
  {
   "cell_type": "code",
   "execution_count": 7,
   "id": "e9e1b81b",
   "metadata": {},
   "outputs": [
    {
     "data": {
      "text/html": [
       "<div>\n",
       "<style scoped>\n",
       "    .dataframe tbody tr th:only-of-type {\n",
       "        vertical-align: middle;\n",
       "    }\n",
       "\n",
       "    .dataframe tbody tr th {\n",
       "        vertical-align: top;\n",
       "    }\n",
       "\n",
       "    .dataframe thead th {\n",
       "        text-align: right;\n",
       "    }\n",
       "</style>\n",
       "<table border=\"1\" class=\"dataframe\">\n",
       "  <thead>\n",
       "    <tr style=\"text-align: right;\">\n",
       "      <th></th>\n",
       "      <th>patient_id</th>\n",
       "    </tr>\n",
       "  </thead>\n",
       "  <tbody>\n",
       "    <tr>\n",
       "      <th>patient_id</th>\n",
       "      <td>1.0</td>\n",
       "    </tr>\n",
       "  </tbody>\n",
       "</table>\n",
       "</div>"
      ],
      "text/plain": [
       "            patient_id\n",
       "patient_id         1.0"
      ]
     },
     "execution_count": 7,
     "metadata": {},
     "output_type": "execute_result"
    }
   ],
   "source": [
    "df.corr()"
   ]
  },
  {
   "cell_type": "raw",
   "id": "e9333a8b",
   "metadata": {},
   "source": [
    "    Question #2\n",
    "    Bagaimana korelasi antara kolom-kolom berikut: ( Sex, Age, Country, dan City ."
   ]
  },
  {
   "cell_type": "markdown",
   "id": "3731b268",
   "metadata": {},
   "source": [
    "    Gunakan Kolom tersebut menggunakan sintak df : Corr"
   ]
  },
  {
   "cell_type": "code",
   "execution_count": 8,
   "id": "ba9401bc",
   "metadata": {},
   "outputs": [
    {
     "data": {
      "text/html": [
       "<div>\n",
       "<style scoped>\n",
       "    .dataframe tbody tr th:only-of-type {\n",
       "        vertical-align: middle;\n",
       "    }\n",
       "\n",
       "    .dataframe tbody tr th {\n",
       "        vertical-align: top;\n",
       "    }\n",
       "\n",
       "    .dataframe thead th {\n",
       "        text-align: right;\n",
       "    }\n",
       "</style>\n",
       "<table border=\"1\" class=\"dataframe\">\n",
       "  <thead>\n",
       "    <tr style=\"text-align: right;\">\n",
       "      <th></th>\n",
       "    </tr>\n",
       "  </thead>\n",
       "  <tbody>\n",
       "  </tbody>\n",
       "</table>\n",
       "</div>"
      ],
      "text/plain": [
       "Empty DataFrame\n",
       "Columns: []\n",
       "Index: []"
      ]
     },
     "execution_count": 8,
     "metadata": {},
     "output_type": "execute_result"
    }
   ],
   "source": [
    "# Write your code below and press Shift+Enter to execute \n",
    "df[['sex','age','country','city']].corr()"
   ]
  },
  {
   "cell_type": "markdown",
   "id": "d62cfbb5",
   "metadata": {},
   "source": [
    "    Kolom ini tidak mempunyai korelasi antara kolom Sex, Age, Country, dan City. Dikarenakan Tipe Data yang digunakan pada Kolom ini bertipe data object, yang hanya digunakan untuk mempresentasikan variabel yang ditampilkan "
   ]
  },
  {
   "cell_type": "code",
   "execution_count": 9,
   "id": "deced99f",
   "metadata": {},
   "outputs": [
    {
     "name": "stdout",
     "output_type": "stream",
     "text": [
      "<class 'tuple'>\n"
     ]
    }
   ],
   "source": [
    "nama = 'sex','age','country','city'\n",
    "print(type(nama)) # Output: <class 'str'>\n"
   ]
  },
  {
   "cell_type": "markdown",
   "id": "1d083ce7",
   "metadata": {},
   "source": [
    "    #Data ini menunjukkan korelasi variable data yang cukup bagus dengan presentasi umur sesuai dengan kenaikan angka dari kolom patient_id yang ditampilkan pada grafik tersebut"
   ]
  },
  {
   "cell_type": "code",
   "execution_count": 10,
   "id": "9d970c63",
   "metadata": {},
   "outputs": [
    {
     "data": {
      "text/html": [
       "<div>\n",
       "<style scoped>\n",
       "    .dataframe tbody tr th:only-of-type {\n",
       "        vertical-align: middle;\n",
       "    }\n",
       "\n",
       "    .dataframe tbody tr th {\n",
       "        vertical-align: top;\n",
       "    }\n",
       "\n",
       "    .dataframe thead th {\n",
       "        text-align: right;\n",
       "    }\n",
       "</style>\n",
       "<table border=\"1\" class=\"dataframe\">\n",
       "  <thead>\n",
       "    <tr style=\"text-align: right;\">\n",
       "      <th></th>\n",
       "      <th>patient_id</th>\n",
       "    </tr>\n",
       "  </thead>\n",
       "  <tbody>\n",
       "    <tr>\n",
       "      <th>patient_id</th>\n",
       "      <td>1.0</td>\n",
       "    </tr>\n",
       "  </tbody>\n",
       "</table>\n",
       "</div>"
      ],
      "text/plain": [
       "            patient_id\n",
       "patient_id         1.0"
      ]
     },
     "execution_count": 10,
     "metadata": {},
     "output_type": "execute_result"
    }
   ],
   "source": [
    "df[[\"patient_id\"]].corr()"
   ]
  },
  {
   "cell_type": "markdown",
   "id": "5647078f",
   "metadata": {},
   "source": [
    "    #Dari data yang dikumpulkan didapatkan presentasi kenaikan untuk kolom patient_id sebesar 1.0 dengan jumlah data dibandingkan dengan 5000 data yang muncul"
   ]
  },
  {
   "cell_type": "markdown",
   "id": "60a81279",
   "metadata": {},
   "source": [
    "sns.regplot(x=\"symptom_onset_date\", y=\"city\", data=df)"
   ]
  },
  {
   "cell_type": "code",
   "execution_count": 11,
   "id": "76edefe2",
   "metadata": {},
   "outputs": [
    {
     "data": {
      "text/plain": [
       "Text(0.5, 1.0, 'patient_id')"
      ]
     },
     "execution_count": 11,
     "metadata": {},
     "output_type": "execute_result"
    },
    {
     "data": {
      "image/png": "[encoded data removed]",
      "text/plain": [
       "<Figure size 640x480 with 1 Axes>"
      ]
     },
     "metadata": {},
     "output_type": "display_data"
    }
   ],
   "source": [
    "%matplotlib inline\n",
    "import matplotlib as plt\n",
    "from matplotlib import pyplot\n",
    "plt.pyplot.hist(df[\"patient_id\"])\n",
    "\n",
    "# set x/y labels and plot title\n",
    "plt.pyplot.xlabel(\"patient_id\")\n",
    "plt.pyplot.ylabel(\"count\")\n",
    "plt.pyplot.title(\"patient_id\")"
   ]
  },
  {
   "cell_type": "markdown",
   "id": "93c72f3d",
   "metadata": {},
   "source": [
    "    Didapatkan data pada kolom patient_id, mendapatkan korelasi data yang dicakup 7 baris, dengan rasio yang sangat besar dari kasus data yang terserang covid"
   ]
  },
  {
   "cell_type": "code",
   "execution_count": 12,
   "id": "0589afd9",
   "metadata": {},
   "outputs": [
    {
     "data": {
      "text/html": [
       "<div>\n",
       "<style scoped>\n",
       "    .dataframe tbody tr th:only-of-type {\n",
       "        vertical-align: middle;\n",
       "    }\n",
       "\n",
       "    .dataframe tbody tr th {\n",
       "        vertical-align: top;\n",
       "    }\n",
       "\n",
       "    .dataframe thead th {\n",
       "        text-align: right;\n",
       "    }\n",
       "</style>\n",
       "<table border=\"1\" class=\"dataframe\">\n",
       "  <thead>\n",
       "    <tr style=\"text-align: right;\">\n",
       "      <th></th>\n",
       "      <th>patient_id</th>\n",
       "    </tr>\n",
       "  </thead>\n",
       "  <tbody>\n",
       "    <tr>\n",
       "      <th>patient_id</th>\n",
       "      <td>1.0</td>\n",
       "    </tr>\n",
       "  </tbody>\n",
       "</table>\n",
       "</div>"
      ],
      "text/plain": [
       "            patient_id\n",
       "patient_id         1.0"
      ]
     },
     "execution_count": 12,
     "metadata": {},
     "output_type": "execute_result"
    }
   ],
   "source": [
    "df[['symptom_onset_date', 'patient_id']].corr()"
   ]
  },
  {
   "cell_type": "code",
   "execution_count": 13,
   "id": "b0b6d0b9",
   "metadata": {},
   "outputs": [
    {
     "data": {
      "text/plain": [
       "<AxesSubplot:xlabel='patient_id', ylabel='age'>"
      ]
     },
     "execution_count": 13,
     "metadata": {},
     "output_type": "execute_result"
    },
    {
     "data": {
      "image/png": "[encoded data removed]",
      "text/plain": [
       "<Figure size 640x480 with 1 Axes>"
      ]
     },
     "metadata": {},
     "output_type": "display_data"
    }
   ],
   "source": [
    "sns.boxplot(x=\"patient_id\", y=\"age\", data=df)"
   ]
  },
  {
   "cell_type": "markdown",
   "id": "e3180702",
   "metadata": {},
   "source": [
    "    Didapatkan frekuensi data disini turun naik dengan rasio yang sesuai dengan umur yang ada pada korban patient covid 19. dengan umur 20, frekuensi naik. "
   ]
  },
  {
   "cell_type": "code",
   "execution_count": 14,
   "id": "48801b93",
   "metadata": {},
   "outputs": [
    {
     "data": {
      "text/plain": [
       "<AxesSubplot:xlabel='patient_id', ylabel='sex'>"
      ]
     },
     "execution_count": 14,
     "metadata": {},
     "output_type": "execute_result"
    },
    {
     "data": {
      "image/png": "[encoded data removed]",
      "text/plain": [
       "<Figure size 640x480 with 1 Axes>"
      ]
     },
     "metadata": {},
     "output_type": "display_data"
    }
   ],
   "source": [
    "sns.boxplot(x=\"patient_id\", y=\"sex\", data=df)"
   ]
  },
  {
   "cell_type": "code",
   "execution_count": 15,
   "id": "2393e70b",
   "metadata": {},
   "outputs": [
    {
     "data": {
      "text/plain": [
       "Text(0.5, 1.0, 'patient_id')"
      ]
     },
     "execution_count": 15,
     "metadata": {},
     "output_type": "execute_result"
    },
    {
     "data": {
      "image/png": "[encoded data removed]",
      "text/plain": [
       "<Figure size 640x480 with 1 Axes>"
      ]
     },
     "metadata": {},
     "output_type": "display_data"
    }
   ],
   "source": [
    "\n",
    "%matplotlib inline\n",
    "import matplotlib as plt\n",
    "from matplotlib import pyplot\n",
    "plt.pyplot.hist(df[\"patient_id\"])\n",
    "\n",
    "# set x/y labels and plot title\n",
    "plt.pyplot.xlabel(\"patient_id\")\n",
    "plt.pyplot.ylabel(\"infected_by\")\n",
    "plt.pyplot.title(\"patient_id\")\n"
   ]
  },
  {
   "cell_type": "code",
   "execution_count": 17,
   "id": "34bc6c79",
   "metadata": {},
   "outputs": [
    {
     "data": {
      "text/plain": [
       "<AxesSubplot:xlabel='patient_id', ylabel='city'>"
      ]
     },
     "execution_count": 17,
     "metadata": {},
     "output_type": "execute_result"
    },
    {
     "data": {
      "image/png": "[encoded data removed]",
      "text/plain": [
       "<Figure size 640x480 with 1 Axes>"
      ]
     },
     "metadata": {},
     "output_type": "display_data"
    }
   ],
   "source": [
    "# released_date\n",
    "sns.boxplot(x=\"patient_id\", y=\"city\", data=df)"
   ]
  },
  {
   "cell_type": "markdown",
   "id": "8914be70",
   "metadata": {},
   "source": [
    "# 3. Descriptive Analysis"
   ]
  },
  {
   "cell_type": "markdown",
   "id": "b84eee88",
   "metadata": {},
   "source": [
    "     Kita akan menerapkan metode gambaran dalam menganalisis deskripsi ini"
   ]
  },
  {
   "cell_type": "code",
   "execution_count": 46,
   "id": "ee54e7f2",
   "metadata": {
    "scrolled": true
   },
   "outputs": [
    {
     "data": {
      "text/html": [
       "<div>\n",
       "<style scoped>\n",
       "    .dataframe tbody tr th:only-of-type {\n",
       "        vertical-align: middle;\n",
       "    }\n",
       "\n",
       "    .dataframe tbody tr th {\n",
       "        vertical-align: top;\n",
       "    }\n",
       "\n",
       "    .dataframe thead th {\n",
       "        text-align: right;\n",
       "    }\n",
       "</style>\n",
       "<table border=\"1\" class=\"dataframe\">\n",
       "  <thead>\n",
       "    <tr style=\"text-align: right;\">\n",
       "      <th></th>\n",
       "      <th>patient_id</th>\n",
       "    </tr>\n",
       "  </thead>\n",
       "  <tbody>\n",
       "    <tr>\n",
       "      <th>count</th>\n",
       "      <td>5.165000e+03</td>\n",
       "    </tr>\n",
       "    <tr>\n",
       "      <th>mean</th>\n",
       "      <td>2.863635e+09</td>\n",
       "    </tr>\n",
       "    <tr>\n",
       "      <th>std</th>\n",
       "      <td>2.074211e+09</td>\n",
       "    </tr>\n",
       "    <tr>\n",
       "      <th>min</th>\n",
       "      <td>1.000000e+09</td>\n",
       "    </tr>\n",
       "    <tr>\n",
       "      <th>25%</th>\n",
       "      <td>1.000001e+09</td>\n",
       "    </tr>\n",
       "    <tr>\n",
       "      <th>50%</th>\n",
       "      <td>2.000000e+09</td>\n",
       "    </tr>\n",
       "    <tr>\n",
       "      <th>75%</th>\n",
       "      <td>6.001000e+09</td>\n",
       "    </tr>\n",
       "    <tr>\n",
       "      <th>max</th>\n",
       "      <td>7.000000e+09</td>\n",
       "    </tr>\n",
       "  </tbody>\n",
       "</table>\n",
       "</div>"
      ],
      "text/plain": [
       "         patient_id\n",
       "count  5.165000e+03\n",
       "mean   2.863635e+09\n",
       "std    2.074211e+09\n",
       "min    1.000000e+09\n",
       "25%    1.000001e+09\n",
       "50%    2.000000e+09\n",
       "75%    6.001000e+09\n",
       "max    7.000000e+09"
      ]
     },
     "execution_count": 46,
     "metadata": {},
     "output_type": "execute_result"
    }
   ],
   "source": [
    "df.describe()"
   ]
  },
  {
   "cell_type": "code",
   "execution_count": 47,
   "id": "bdd6419f",
   "metadata": {},
   "outputs": [],
   "source": [
    "# Berikut Values dari kolom patient_id"
   ]
  },
  {
   "cell_type": "markdown",
   "id": "f0c14647",
   "metadata": {},
   "source": [
    "8 crows * 2 column"
   ]
  },
  {
   "cell_type": "code",
   "execution_count": 48,
   "id": "62f57b06",
   "metadata": {},
   "outputs": [
    {
     "data": {
      "text/html": [
       "<div>\n",
       "<style scoped>\n",
       "    .dataframe tbody tr th:only-of-type {\n",
       "        vertical-align: middle;\n",
       "    }\n",
       "\n",
       "    .dataframe tbody tr th {\n",
       "        vertical-align: top;\n",
       "    }\n",
       "\n",
       "    .dataframe thead th {\n",
       "        text-align: right;\n",
       "    }\n",
       "</style>\n",
       "<table border=\"1\" class=\"dataframe\">\n",
       "  <thead>\n",
       "    <tr style=\"text-align: right;\">\n",
       "      <th></th>\n",
       "      <th>sex</th>\n",
       "      <th>age</th>\n",
       "      <th>country</th>\n",
       "      <th>province</th>\n",
       "      <th>city</th>\n",
       "      <th>infection_case</th>\n",
       "      <th>infected_by</th>\n",
       "      <th>contact_number</th>\n",
       "      <th>symptom_onset_date</th>\n",
       "      <th>state</th>\n",
       "    </tr>\n",
       "  </thead>\n",
       "  <tbody>\n",
       "    <tr>\n",
       "      <th>count</th>\n",
       "      <td>4043</td>\n",
       "      <td>3785</td>\n",
       "      <td>5165</td>\n",
       "      <td>5165</td>\n",
       "      <td>5071</td>\n",
       "      <td>4246</td>\n",
       "      <td>1346</td>\n",
       "      <td>791</td>\n",
       "      <td>690</td>\n",
       "      <td>5165</td>\n",
       "    </tr>\n",
       "    <tr>\n",
       "      <th>unique</th>\n",
       "      <td>2</td>\n",
       "      <td>11</td>\n",
       "      <td>16</td>\n",
       "      <td>17</td>\n",
       "      <td>163</td>\n",
       "      <td>51</td>\n",
       "      <td>606</td>\n",
       "      <td>88</td>\n",
       "      <td>129</td>\n",
       "      <td>3</td>\n",
       "    </tr>\n",
       "    <tr>\n",
       "      <th>top</th>\n",
       "      <td>female</td>\n",
       "      <td>20s</td>\n",
       "      <td>Korea</td>\n",
       "      <td>Seoul</td>\n",
       "      <td>Gyeongsan-si</td>\n",
       "      <td>contact with patient</td>\n",
       "      <td>2000000205</td>\n",
       "      <td>3</td>\n",
       "      <td>2020-02-27 00:00:00</td>\n",
       "      <td>released</td>\n",
       "    </tr>\n",
       "    <tr>\n",
       "      <th>freq</th>\n",
       "      <td>2218</td>\n",
       "      <td>899</td>\n",
       "      <td>5123</td>\n",
       "      <td>1312</td>\n",
       "      <td>639</td>\n",
       "      <td>1610</td>\n",
       "      <td>51</td>\n",
       "      <td>96</td>\n",
       "      <td>29</td>\n",
       "      <td>2929</td>\n",
       "    </tr>\n",
       "  </tbody>\n",
       "</table>\n",
       "</div>"
      ],
      "text/plain": [
       "           sex   age country province          city        infection_case  \\\n",
       "count     4043  3785    5165     5165          5071                  4246   \n",
       "unique       2    11      16       17           163                    51   \n",
       "top     female   20s   Korea    Seoul  Gyeongsan-si  contact with patient   \n",
       "freq      2218   899    5123     1312           639                  1610   \n",
       "\n",
       "        infected_by  contact_number   symptom_onset_date     state  \n",
       "count          1346             791                  690      5165  \n",
       "unique          606              88                  129         3  \n",
       "top      2000000205               3  2020-02-27 00:00:00  released  \n",
       "freq             51              96                   29      2929  "
      ]
     },
     "execution_count": 48,
     "metadata": {},
     "output_type": "execute_result"
    }
   ],
   "source": [
    "df.describe(include=['object']) "
   ]
  },
  {
   "cell_type": "raw",
   "id": "48514a22",
   "metadata": {},
   "source": [
    "#Kita akan menggunakan metode describe pada variabel bertipe data object, "
   ]
  },
  {
   "cell_type": "markdown",
   "id": "b7399df3",
   "metadata": {},
   "source": [
    "# Values Count"
   ]
  },
  {
   "cell_type": "code",
   "execution_count": 49,
   "id": "17edef86",
   "metadata": {},
   "outputs": [
    {
     "data": {
      "text/plain": [
       "1200012238    2\n",
       "1000000001    1\n",
       "3009000020    1\n",
       "3009000018    1\n",
       "3009000017    1\n",
       "             ..\n",
       "1400000079    1\n",
       "1400000078    1\n",
       "1400000077    1\n",
       "1400000076    1\n",
       "7000000019    1\n",
       "Name: patient_id, Length: 5164, dtype: int64"
      ]
     },
     "execution_count": 49,
     "metadata": {},
     "output_type": "execute_result"
    }
   ],
   "source": [
    "df['patient_id'].value_counts()"
   ]
  },
  {
   "cell_type": "markdown",
   "id": "08806538",
   "metadata": {},
   "source": [
    "        Selanjutnya kita akan mengkonversi data menjadi sebuah kerangka data. berikut sintak yang digunakan\n",
    "        "
   ]
  },
  {
   "cell_type": "code",
   "execution_count": 50,
   "id": "29dd6abd",
   "metadata": {
    "scrolled": true
   },
   "outputs": [
    {
     "data": {
      "text/html": [
       "<div>\n",
       "<style scoped>\n",
       "    .dataframe tbody tr th:only-of-type {\n",
       "        vertical-align: middle;\n",
       "    }\n",
       "\n",
       "    .dataframe tbody tr th {\n",
       "        vertical-align: top;\n",
       "    }\n",
       "\n",
       "    .dataframe thead th {\n",
       "        text-align: right;\n",
       "    }\n",
       "</style>\n",
       "<table border=\"1\" class=\"dataframe\">\n",
       "  <thead>\n",
       "    <tr style=\"text-align: right;\">\n",
       "      <th></th>\n",
       "      <th>patient_id</th>\n",
       "    </tr>\n",
       "  </thead>\n",
       "  <tbody>\n",
       "    <tr>\n",
       "      <th>1200012238</th>\n",
       "      <td>2</td>\n",
       "    </tr>\n",
       "    <tr>\n",
       "      <th>1000000001</th>\n",
       "      <td>1</td>\n",
       "    </tr>\n",
       "    <tr>\n",
       "      <th>3009000020</th>\n",
       "      <td>1</td>\n",
       "    </tr>\n",
       "    <tr>\n",
       "      <th>3009000018</th>\n",
       "      <td>1</td>\n",
       "    </tr>\n",
       "    <tr>\n",
       "      <th>3009000017</th>\n",
       "      <td>1</td>\n",
       "    </tr>\n",
       "    <tr>\n",
       "      <th>...</th>\n",
       "      <td>...</td>\n",
       "    </tr>\n",
       "    <tr>\n",
       "      <th>1400000079</th>\n",
       "      <td>1</td>\n",
       "    </tr>\n",
       "    <tr>\n",
       "      <th>1400000078</th>\n",
       "      <td>1</td>\n",
       "    </tr>\n",
       "    <tr>\n",
       "      <th>1400000077</th>\n",
       "      <td>1</td>\n",
       "    </tr>\n",
       "    <tr>\n",
       "      <th>1400000076</th>\n",
       "      <td>1</td>\n",
       "    </tr>\n",
       "    <tr>\n",
       "      <th>7000000019</th>\n",
       "      <td>1</td>\n",
       "    </tr>\n",
       "  </tbody>\n",
       "</table>\n",
       "<p>5164 rows × 1 columns</p>\n",
       "</div>"
      ],
      "text/plain": [
       "            patient_id\n",
       "1200012238           2\n",
       "1000000001           1\n",
       "3009000020           1\n",
       "3009000018           1\n",
       "3009000017           1\n",
       "...                ...\n",
       "1400000079           1\n",
       "1400000078           1\n",
       "1400000077           1\n",
       "1400000076           1\n",
       "7000000019           1\n",
       "\n",
       "[5164 rows x 1 columns]"
      ]
     },
     "execution_count": 50,
     "metadata": {},
     "output_type": "execute_result"
    }
   ],
   "source": [
    "df['patient_id'].value_counts().to_frame()"
   ]
  },
  {
   "cell_type": "markdown",
   "id": "7fefdd1b",
   "metadata": {},
   "source": [
    "    kerangka akan merubah nama patient_id menjadi values counts tanpa menghilangkan awal data yang disimp"
   ]
  },
  {
   "cell_type": "code",
   "execution_count": 51,
   "id": "b6626a1b",
   "metadata": {
    "scrolled": true
   },
   "outputs": [
    {
     "data": {
      "text/html": [
       "<div>\n",
       "<style scoped>\n",
       "    .dataframe tbody tr th:only-of-type {\n",
       "        vertical-align: middle;\n",
       "    }\n",
       "\n",
       "    .dataframe tbody tr th {\n",
       "        vertical-align: top;\n",
       "    }\n",
       "\n",
       "    .dataframe thead th {\n",
       "        text-align: right;\n",
       "    }\n",
       "</style>\n",
       "<table border=\"1\" class=\"dataframe\">\n",
       "  <thead>\n",
       "    <tr style=\"text-align: right;\">\n",
       "      <th></th>\n",
       "      <th>value_counts</th>\n",
       "    </tr>\n",
       "  </thead>\n",
       "  <tbody>\n",
       "    <tr>\n",
       "      <th>1200012238</th>\n",
       "      <td>2</td>\n",
       "    </tr>\n",
       "    <tr>\n",
       "      <th>1000000001</th>\n",
       "      <td>1</td>\n",
       "    </tr>\n",
       "    <tr>\n",
       "      <th>3009000020</th>\n",
       "      <td>1</td>\n",
       "    </tr>\n",
       "    <tr>\n",
       "      <th>3009000018</th>\n",
       "      <td>1</td>\n",
       "    </tr>\n",
       "    <tr>\n",
       "      <th>3009000017</th>\n",
       "      <td>1</td>\n",
       "    </tr>\n",
       "    <tr>\n",
       "      <th>...</th>\n",
       "      <td>...</td>\n",
       "    </tr>\n",
       "    <tr>\n",
       "      <th>1400000079</th>\n",
       "      <td>1</td>\n",
       "    </tr>\n",
       "    <tr>\n",
       "      <th>1400000078</th>\n",
       "      <td>1</td>\n",
       "    </tr>\n",
       "    <tr>\n",
       "      <th>1400000077</th>\n",
       "      <td>1</td>\n",
       "    </tr>\n",
       "    <tr>\n",
       "      <th>1400000076</th>\n",
       "      <td>1</td>\n",
       "    </tr>\n",
       "    <tr>\n",
       "      <th>7000000019</th>\n",
       "      <td>1</td>\n",
       "    </tr>\n",
       "  </tbody>\n",
       "</table>\n",
       "<p>5164 rows × 1 columns</p>\n",
       "</div>"
      ],
      "text/plain": [
       "            value_counts\n",
       "1200012238             2\n",
       "1000000001             1\n",
       "3009000020             1\n",
       "3009000018             1\n",
       "3009000017             1\n",
       "...                  ...\n",
       "1400000079             1\n",
       "1400000078             1\n",
       "1400000077             1\n",
       "1400000076             1\n",
       "7000000019             1\n",
       "\n",
       "[5164 rows x 1 columns]"
      ]
     },
     "execution_count": 51,
     "metadata": {},
     "output_type": "execute_result"
    }
   ],
   "source": [
    "drive_wheels_counts = df['patient_id'].value_counts().to_frame()\n",
    "drive_wheels_counts.rename(columns={'patient_id': 'value_counts'}, inplace=True)\n",
    "drive_wheels_counts"
   ]
  },
  {
   "cell_type": "markdown",
   "id": "b38e4ba1",
   "metadata": {},
   "source": [
    "lalu kita ganti nama index menjadi patient_id"
   ]
  },
  {
   "cell_type": "code",
   "execution_count": 52,
   "id": "b60b4acb",
   "metadata": {},
   "outputs": [
    {
     "data": {
      "text/plain": [
       "'patient_id'"
      ]
     },
     "execution_count": 52,
     "metadata": {},
     "output_type": "execute_result"
    }
   ],
   "source": [
    "patient_id_counts = 'patient_id'\n",
    "patient_id_counts"
   ]
  },
  {
   "cell_type": "code",
   "execution_count": 53,
   "id": "954e9e54",
   "metadata": {},
   "outputs": [
    {
     "data": {
      "text/html": [
       "<div>\n",
       "<style scoped>\n",
       "    .dataframe tbody tr th:only-of-type {\n",
       "        vertical-align: middle;\n",
       "    }\n",
       "\n",
       "    .dataframe tbody tr th {\n",
       "        vertical-align: top;\n",
       "    }\n",
       "\n",
       "    .dataframe thead th {\n",
       "        text-align: right;\n",
       "    }\n",
       "</style>\n",
       "<table border=\"1\" class=\"dataframe\">\n",
       "  <thead>\n",
       "    <tr style=\"text-align: right;\">\n",
       "      <th></th>\n",
       "      <th>patient_id</th>\n",
       "    </tr>\n",
       "    <tr>\n",
       "      <th>patient_id</th>\n",
       "      <th></th>\n",
       "    </tr>\n",
       "  </thead>\n",
       "  <tbody>\n",
       "    <tr>\n",
       "      <th>1200012238</th>\n",
       "      <td>2</td>\n",
       "    </tr>\n",
       "    <tr>\n",
       "      <th>1000000001</th>\n",
       "      <td>1</td>\n",
       "    </tr>\n",
       "    <tr>\n",
       "      <th>3009000020</th>\n",
       "      <td>1</td>\n",
       "    </tr>\n",
       "    <tr>\n",
       "      <th>3009000018</th>\n",
       "      <td>1</td>\n",
       "    </tr>\n",
       "    <tr>\n",
       "      <th>3009000017</th>\n",
       "      <td>1</td>\n",
       "    </tr>\n",
       "    <tr>\n",
       "      <th>3009000016</th>\n",
       "      <td>1</td>\n",
       "    </tr>\n",
       "    <tr>\n",
       "      <th>3009000015</th>\n",
       "      <td>1</td>\n",
       "    </tr>\n",
       "    <tr>\n",
       "      <th>3009000014</th>\n",
       "      <td>1</td>\n",
       "    </tr>\n",
       "    <tr>\n",
       "      <th>3009000013</th>\n",
       "      <td>1</td>\n",
       "    </tr>\n",
       "    <tr>\n",
       "      <th>3009000012</th>\n",
       "      <td>1</td>\n",
       "    </tr>\n",
       "  </tbody>\n",
       "</table>\n",
       "</div>"
      ],
      "text/plain": [
       "            patient_id\n",
       "patient_id            \n",
       "1200012238           2\n",
       "1000000001           1\n",
       "3009000020           1\n",
       "3009000018           1\n",
       "3009000017           1\n",
       "3009000016           1\n",
       "3009000015           1\n",
       "3009000014           1\n",
       "3009000013           1\n",
       "3009000012           1"
      ]
     },
     "execution_count": 53,
     "metadata": {},
     "output_type": "execute_result"
    }
   ],
   "source": [
    "#Patient_id as variable\n",
    "patient_id_counts = df['patient_id'].value_counts().to_frame()\n",
    "patient_id_counts.rename(columns={'value_counts': 'patient_id'}, inplace=True)\n",
    "patient_id_counts.index.name = 'patient_id'\n",
    "patient_id_counts.head(10)"
   ]
  },
  {
   "cell_type": "markdown",
   "id": "27a9d166",
   "metadata": {},
   "source": [
    "# 4. Basic Grouping"
   ]
  },
  {
   "cell_type": "code",
   "execution_count": 54,
   "id": "bab9f694",
   "metadata": {},
   "outputs": [
    {
     "data": {
      "text/plain": [
       "array([1000000001, 1000000002, 1000000003, ..., 7000000017, 7000000018,\n",
       "       7000000019], dtype=int64)"
      ]
     },
     "execution_count": 54,
     "metadata": {},
     "output_type": "execute_result"
    }
   ],
   "source": [
    "df['patient_id'].unique()"
   ]
  },
  {
   "cell_type": "code",
   "execution_count": 55,
   "id": "4a94b31e",
   "metadata": {},
   "outputs": [],
   "source": [
    "df_group_one = df[['patient_id','sex','age']]"
   ]
  },
  {
   "cell_type": "code",
   "execution_count": 56,
   "id": "315d5a0a",
   "metadata": {},
   "outputs": [
    {
     "data": {
      "text/html": [
       "<div>\n",
       "<style scoped>\n",
       "    .dataframe tbody tr th:only-of-type {\n",
       "        vertical-align: middle;\n",
       "    }\n",
       "\n",
       "    .dataframe tbody tr th {\n",
       "        vertical-align: top;\n",
       "    }\n",
       "\n",
       "    .dataframe thead th {\n",
       "        text-align: right;\n",
       "    }\n",
       "</style>\n",
       "<table border=\"1\" class=\"dataframe\">\n",
       "  <thead>\n",
       "    <tr style=\"text-align: right;\">\n",
       "      <th></th>\n",
       "      <th>patient_id</th>\n",
       "      <th>sex</th>\n",
       "      <th>age</th>\n",
       "    </tr>\n",
       "  </thead>\n",
       "  <tbody>\n",
       "    <tr>\n",
       "      <th>0</th>\n",
       "      <td>1000000001</td>\n",
       "      <td>male</td>\n",
       "      <td>50s</td>\n",
       "    </tr>\n",
       "    <tr>\n",
       "      <th>1</th>\n",
       "      <td>1000000002</td>\n",
       "      <td>male</td>\n",
       "      <td>30s</td>\n",
       "    </tr>\n",
       "    <tr>\n",
       "      <th>2</th>\n",
       "      <td>1000000003</td>\n",
       "      <td>male</td>\n",
       "      <td>50s</td>\n",
       "    </tr>\n",
       "    <tr>\n",
       "      <th>3</th>\n",
       "      <td>1000000004</td>\n",
       "      <td>male</td>\n",
       "      <td>20s</td>\n",
       "    </tr>\n",
       "    <tr>\n",
       "      <th>4</th>\n",
       "      <td>1000000005</td>\n",
       "      <td>female</td>\n",
       "      <td>20s</td>\n",
       "    </tr>\n",
       "    <tr>\n",
       "      <th>...</th>\n",
       "      <td>...</td>\n",
       "      <td>...</td>\n",
       "      <td>...</td>\n",
       "    </tr>\n",
       "    <tr>\n",
       "      <th>5160</th>\n",
       "      <td>7000000015</td>\n",
       "      <td>female</td>\n",
       "      <td>30s</td>\n",
       "    </tr>\n",
       "    <tr>\n",
       "      <th>5161</th>\n",
       "      <td>7000000016</td>\n",
       "      <td>NaN</td>\n",
       "      <td>NaN</td>\n",
       "    </tr>\n",
       "    <tr>\n",
       "      <th>5162</th>\n",
       "      <td>7000000017</td>\n",
       "      <td>NaN</td>\n",
       "      <td>NaN</td>\n",
       "    </tr>\n",
       "    <tr>\n",
       "      <th>5163</th>\n",
       "      <td>7000000018</td>\n",
       "      <td>NaN</td>\n",
       "      <td>NaN</td>\n",
       "    </tr>\n",
       "    <tr>\n",
       "      <th>5164</th>\n",
       "      <td>7000000019</td>\n",
       "      <td>NaN</td>\n",
       "      <td>NaN</td>\n",
       "    </tr>\n",
       "  </tbody>\n",
       "</table>\n",
       "<p>5165 rows × 3 columns</p>\n",
       "</div>"
      ],
      "text/plain": [
       "      patient_id     sex  age\n",
       "0     1000000001    male  50s\n",
       "1     1000000002    male  30s\n",
       "2     1000000003    male  50s\n",
       "3     1000000004    male  20s\n",
       "4     1000000005  female  20s\n",
       "...          ...     ...  ...\n",
       "5160  7000000015  female  30s\n",
       "5161  7000000016     NaN  NaN\n",
       "5162  7000000017     NaN  NaN\n",
       "5163  7000000018     NaN  NaN\n",
       "5164  7000000019     NaN  NaN\n",
       "\n",
       "[5165 rows x 3 columns]"
      ]
     },
     "execution_count": 56,
     "metadata": {},
     "output_type": "execute_result"
    }
   ],
   "source": [
    "df_group_one"
   ]
  },
  {
   "cell_type": "code",
   "execution_count": 57,
   "id": "e68389c8",
   "metadata": {},
   "outputs": [
    {
     "data": {
      "text/html": [
       "<div>\n",
       "<style scoped>\n",
       "    .dataframe tbody tr th:only-of-type {\n",
       "        vertical-align: middle;\n",
       "    }\n",
       "\n",
       "    .dataframe tbody tr th {\n",
       "        vertical-align: top;\n",
       "    }\n",
       "\n",
       "    .dataframe thead th {\n",
       "        text-align: right;\n",
       "    }\n",
       "</style>\n",
       "<table border=\"1\" class=\"dataframe\">\n",
       "  <thead>\n",
       "    <tr style=\"text-align: right;\">\n",
       "      <th></th>\n",
       "      <th>age</th>\n",
       "      <th>patient_id</th>\n",
       "    </tr>\n",
       "  </thead>\n",
       "  <tbody>\n",
       "    <tr>\n",
       "      <th>0</th>\n",
       "      <td>0s</td>\n",
       "      <td>3.181274e+09</td>\n",
       "    </tr>\n",
       "    <tr>\n",
       "      <th>1</th>\n",
       "      <td>100s</td>\n",
       "      <td>6.001001e+09</td>\n",
       "    </tr>\n",
       "    <tr>\n",
       "      <th>2</th>\n",
       "      <td>10s</td>\n",
       "      <td>3.445911e+09</td>\n",
       "    </tr>\n",
       "    <tr>\n",
       "      <th>3</th>\n",
       "      <td>20s</td>\n",
       "      <td>3.392378e+09</td>\n",
       "    </tr>\n",
       "    <tr>\n",
       "      <th>4</th>\n",
       "      <td>30s</td>\n",
       "      <td>2.812983e+09</td>\n",
       "    </tr>\n",
       "    <tr>\n",
       "      <th>5</th>\n",
       "      <td>40s</td>\n",
       "      <td>3.259591e+09</td>\n",
       "    </tr>\n",
       "    <tr>\n",
       "      <th>6</th>\n",
       "      <td>50s</td>\n",
       "      <td>3.323569e+09</td>\n",
       "    </tr>\n",
       "    <tr>\n",
       "      <th>7</th>\n",
       "      <td>60s</td>\n",
       "      <td>3.604752e+09</td>\n",
       "    </tr>\n",
       "    <tr>\n",
       "      <th>8</th>\n",
       "      <td>70s</td>\n",
       "      <td>3.697996e+09</td>\n",
       "    </tr>\n",
       "    <tr>\n",
       "      <th>9</th>\n",
       "      <td>80s</td>\n",
       "      <td>4.475618e+09</td>\n",
       "    </tr>\n",
       "    <tr>\n",
       "      <th>10</th>\n",
       "      <td>90s</td>\n",
       "      <td>4.623735e+09</td>\n",
       "    </tr>\n",
       "  </tbody>\n",
       "</table>\n",
       "</div>"
      ],
      "text/plain": [
       "     age    patient_id\n",
       "0     0s  3.181274e+09\n",
       "1   100s  6.001001e+09\n",
       "2    10s  3.445911e+09\n",
       "3    20s  3.392378e+09\n",
       "4    30s  2.812983e+09\n",
       "5    40s  3.259591e+09\n",
       "6    50s  3.323569e+09\n",
       "7    60s  3.604752e+09\n",
       "8    70s  3.697996e+09\n",
       "9    80s  4.475618e+09\n",
       "10   90s  4.623735e+09"
      ]
     },
     "execution_count": 57,
     "metadata": {},
     "output_type": "execute_result"
    }
   ],
   "source": [
    "# Write your code below and press Shift+Enter to execute \n",
    "# grouping results\n",
    "df_gptest2 = df[['patient_id','age']]\n",
    "grouped_test_bodystyle = df_gptest2.groupby(['age'],as_index= False).mean()\n",
    "grouped_test_bodystyle"
   ]
  },
  {
   "cell_type": "code",
   "execution_count": 58,
   "id": "8cf54505",
   "metadata": {},
   "outputs": [],
   "source": [
    "import matplotlib.pyplot as plt\n",
    "%matplotlib inline \n",
    "import pandas as pd"
   ]
  },
  {
   "cell_type": "code",
   "execution_count": 59,
   "id": "59972fb6",
   "metadata": {},
   "outputs": [
    {
     "name": "stdout",
     "output_type": "stream",
     "text": [
      "      patient_id     sex  age     country province         city  \\\n",
      "0     1000000001    male  50s       Korea    Seoul   Gangseo-gu   \n",
      "1     1000000002    male  30s       Korea    Seoul  Jungnang-gu   \n",
      "2     1000000003    male  50s       Korea    Seoul    Jongno-gu   \n",
      "3     1000000004    male  20s       Korea    Seoul      Mapo-gu   \n",
      "4     1000000005  female  20s       Korea    Seoul  Seongbuk-gu   \n",
      "...          ...     ...  ...         ...      ...          ...   \n",
      "5160  7000000015  female  30s       Korea  Jeju-do      Jeju-do   \n",
      "5161  7000000016     NaN  NaN       Korea  Jeju-do      Jeju-do   \n",
      "5162  7000000017     NaN  NaN  Bangladesh  Jeju-do      Jeju-do   \n",
      "5163  7000000018     NaN  NaN  Bangladesh  Jeju-do      Jeju-do   \n",
      "5164  7000000019     NaN  NaN  Bangladesh  Jeju-do      Jeju-do   \n",
      "\n",
      "            infection_case infected_by contact_number   symptom_onset_date  \\\n",
      "0          overseas inflow         NaN             75  2020-01-22 00:00:00   \n",
      "1          overseas inflow         NaN             31                  NaN   \n",
      "2     contact with patient  2002000001             17                  NaN   \n",
      "3          overseas inflow         NaN              9  2020-01-26 00:00:00   \n",
      "4     contact with patient  1000000002              2                  NaN   \n",
      "...                    ...         ...            ...                  ...   \n",
      "5160       overseas inflow         NaN             25                  NaN   \n",
      "5161       overseas inflow         NaN            NaN                  NaN   \n",
      "5162       overseas inflow         NaN             72                  NaN   \n",
      "5163       overseas inflow         NaN            NaN                  NaN   \n",
      "5164       overseas inflow         NaN            NaN                  NaN   \n",
      "\n",
      "     confirmed_date released_date deceased_date     state  \n",
      "0        2020-01-23    2020-02-05           NaT  released  \n",
      "1        2020-01-30    2020-03-02           NaT  released  \n",
      "2        2020-01-30    2020-02-19           NaT  released  \n",
      "3        2020-01-30    2020-02-15           NaT  released  \n",
      "4        2020-01-31    2020-02-24           NaT  released  \n",
      "...             ...           ...           ...       ...  \n",
      "5160     2020-05-30    2020-06-13           NaT  released  \n",
      "5161     2020-06-16    2020-06-24           NaT  released  \n",
      "5162     2020-06-18           NaT           NaT  isolated  \n",
      "5163     2020-06-18           NaT           NaT  isolated  \n",
      "5164     2020-06-18           NaT           NaT  isolated  \n",
      "\n",
      "[5165 rows x 14 columns]\n"
     ]
    }
   ],
   "source": [
    "import pandas as pd\n",
    "data = pd.read_excel('PatientInfo.xlsx')\n",
    "# mengelompokkan data berdasarkan kolom tertentu\n",
    "grouped_data = data.groupby('patient_id')\n",
    "# menerapkan fungsi agregat pada setiap kelompok data\n",
    "print(data)"
   ]
  },
  {
   "cell_type": "markdown",
   "id": "21853909",
   "metadata": {},
   "source": [
    "# 5. Correlation "
   ]
  },
  {
   "cell_type": "code",
   "execution_count": 60,
   "id": "fab33358",
   "metadata": {},
   "outputs": [
    {
     "data": {
      "text/html": [
       "<div>\n",
       "<style scoped>\n",
       "    .dataframe tbody tr th:only-of-type {\n",
       "        vertical-align: middle;\n",
       "    }\n",
       "\n",
       "    .dataframe tbody tr th {\n",
       "        vertical-align: top;\n",
       "    }\n",
       "\n",
       "    .dataframe thead th {\n",
       "        text-align: right;\n",
       "    }\n",
       "</style>\n",
       "<table border=\"1\" class=\"dataframe\">\n",
       "  <thead>\n",
       "    <tr style=\"text-align: right;\">\n",
       "      <th></th>\n",
       "      <th>patient_id</th>\n",
       "    </tr>\n",
       "  </thead>\n",
       "  <tbody>\n",
       "    <tr>\n",
       "      <th>patient_id</th>\n",
       "      <td>1.0</td>\n",
       "    </tr>\n",
       "  </tbody>\n",
       "</table>\n",
       "</div>"
      ],
      "text/plain": [
       "            patient_id\n",
       "patient_id         1.0"
      ]
     },
     "execution_count": 60,
     "metadata": {},
     "output_type": "execute_result"
    }
   ],
   "source": [
    "df.corr()"
   ]
  },
  {
   "cell_type": "code",
   "execution_count": 61,
   "id": "4b54fffb",
   "metadata": {},
   "outputs": [],
   "source": [
    "from scipy import stats"
   ]
  },
  {
   "cell_type": "code",
   "execution_count": 62,
   "id": "b81752a0",
   "metadata": {},
   "outputs": [
    {
     "data": {
      "text/plain": [
       "0    released\n",
       "1    released\n",
       "2    released\n",
       "3    released\n",
       "4    released\n",
       "Name: state, dtype: object"
      ]
     },
     "execution_count": 62,
     "metadata": {},
     "output_type": "execute_result"
    }
   ],
   "source": [
    "df['state'].head()"
   ]
  },
  {
   "cell_type": "markdown",
   "id": "367c4a06",
   "metadata": {},
   "source": [
    "# 6. Analisis Varians"
   ]
  },
  {
   "cell_type": "code",
   "execution_count": 63,
   "id": "3d5cf7c3",
   "metadata": {},
   "outputs": [
    {
     "data": {
      "text/html": [
       "<div>\n",
       "<style scoped>\n",
       "    .dataframe tbody tr th:only-of-type {\n",
       "        vertical-align: middle;\n",
       "    }\n",
       "\n",
       "    .dataframe tbody tr th {\n",
       "        vertical-align: top;\n",
       "    }\n",
       "\n",
       "    .dataframe thead th {\n",
       "        text-align: right;\n",
       "    }\n",
       "</style>\n",
       "<table border=\"1\" class=\"dataframe\">\n",
       "  <thead>\n",
       "    <tr style=\"text-align: right;\">\n",
       "      <th></th>\n",
       "      <th>patient_id</th>\n",
       "      <th>age</th>\n",
       "    </tr>\n",
       "  </thead>\n",
       "  <tbody>\n",
       "    <tr>\n",
       "      <th>0</th>\n",
       "      <td>1000000001</td>\n",
       "      <td>50s</td>\n",
       "    </tr>\n",
       "    <tr>\n",
       "      <th>1</th>\n",
       "      <td>1000000002</td>\n",
       "      <td>30s</td>\n",
       "    </tr>\n",
       "    <tr>\n",
       "      <th>2</th>\n",
       "      <td>1000000003</td>\n",
       "      <td>50s</td>\n",
       "    </tr>\n",
       "    <tr>\n",
       "      <th>3</th>\n",
       "      <td>1000000004</td>\n",
       "      <td>20s</td>\n",
       "    </tr>\n",
       "    <tr>\n",
       "      <th>4</th>\n",
       "      <td>1000000005</td>\n",
       "      <td>20s</td>\n",
       "    </tr>\n",
       "    <tr>\n",
       "      <th>8</th>\n",
       "      <td>1000000009</td>\n",
       "      <td>30s</td>\n",
       "    </tr>\n",
       "    <tr>\n",
       "      <th>9</th>\n",
       "      <td>1000000010</td>\n",
       "      <td>60s</td>\n",
       "    </tr>\n",
       "    <tr>\n",
       "      <th>12</th>\n",
       "      <td>1000000013</td>\n",
       "      <td>80s</td>\n",
       "    </tr>\n",
       "    <tr>\n",
       "      <th>13</th>\n",
       "      <td>1000000014</td>\n",
       "      <td>60s</td>\n",
       "    </tr>\n",
       "    <tr>\n",
       "      <th>14</th>\n",
       "      <td>1000000015</td>\n",
       "      <td>70s</td>\n",
       "    </tr>\n",
       "    <tr>\n",
       "      <th>15</th>\n",
       "      <td>1000000016</td>\n",
       "      <td>70s</td>\n",
       "    </tr>\n",
       "    <tr>\n",
       "      <th>20</th>\n",
       "      <td>1000000021</td>\n",
       "      <td>80s</td>\n",
       "    </tr>\n",
       "    <tr>\n",
       "      <th>23</th>\n",
       "      <td>1000000024</td>\n",
       "      <td>40s</td>\n",
       "    </tr>\n",
       "    <tr>\n",
       "      <th>36</th>\n",
       "      <td>1000000037</td>\n",
       "      <td>40s</td>\n",
       "    </tr>\n",
       "    <tr>\n",
       "      <th>78</th>\n",
       "      <td>1000000079</td>\n",
       "      <td>10s</td>\n",
       "    </tr>\n",
       "    <tr>\n",
       "      <th>86</th>\n",
       "      <td>1000000087</td>\n",
       "      <td>10s</td>\n",
       "    </tr>\n",
       "    <tr>\n",
       "      <th>108</th>\n",
       "      <td>1000000109</td>\n",
       "      <td>90s</td>\n",
       "    </tr>\n",
       "    <tr>\n",
       "      <th>111</th>\n",
       "      <td>1000000112</td>\n",
       "      <td>0s</td>\n",
       "    </tr>\n",
       "    <tr>\n",
       "      <th>120</th>\n",
       "      <td>1000000121</td>\n",
       "      <td>0s</td>\n",
       "    </tr>\n",
       "    <tr>\n",
       "      <th>278</th>\n",
       "      <td>1000000279</td>\n",
       "      <td>90s</td>\n",
       "    </tr>\n",
       "    <tr>\n",
       "      <th>4260</th>\n",
       "      <td>6001000503</td>\n",
       "      <td>100s</td>\n",
       "    </tr>\n",
       "  </tbody>\n",
       "</table>\n",
       "</div>"
      ],
      "text/plain": [
       "      patient_id   age\n",
       "0     1000000001   50s\n",
       "1     1000000002   30s\n",
       "2     1000000003   50s\n",
       "3     1000000004   20s\n",
       "4     1000000005   20s\n",
       "8     1000000009   30s\n",
       "9     1000000010   60s\n",
       "12    1000000013   80s\n",
       "13    1000000014   60s\n",
       "14    1000000015   70s\n",
       "15    1000000016   70s\n",
       "20    1000000021   80s\n",
       "23    1000000024   40s\n",
       "36    1000000037   40s\n",
       "78    1000000079   10s\n",
       "86    1000000087   10s\n",
       "108   1000000109   90s\n",
       "111   1000000112    0s\n",
       "120   1000000121    0s\n",
       "278   1000000279   90s\n",
       "4260  6001000503  100s"
      ]
     },
     "execution_count": 63,
     "metadata": {},
     "output_type": "execute_result"
    }
   ],
   "source": [
    "grouped_test2=df_gptest[['patient_id', 'age']].groupby(['age'])\n",
    "grouped_test2.head(2)"
   ]
  },
  {
   "cell_type": "code",
   "execution_count": 64,
   "id": "5aa70db6",
   "metadata": {},
   "outputs": [
    {
     "data": {
      "text/html": [
       "<div>\n",
       "<style scoped>\n",
       "    .dataframe tbody tr th:only-of-type {\n",
       "        vertical-align: middle;\n",
       "    }\n",
       "\n",
       "    .dataframe tbody tr th {\n",
       "        vertical-align: top;\n",
       "    }\n",
       "\n",
       "    .dataframe thead th {\n",
       "        text-align: right;\n",
       "    }\n",
       "</style>\n",
       "<table border=\"1\" class=\"dataframe\">\n",
       "  <thead>\n",
       "    <tr style=\"text-align: right;\">\n",
       "      <th></th>\n",
       "      <th>patient_id</th>\n",
       "      <th>sex</th>\n",
       "      <th>age</th>\n",
       "    </tr>\n",
       "  </thead>\n",
       "  <tbody>\n",
       "    <tr>\n",
       "      <th>0</th>\n",
       "      <td>1000000001</td>\n",
       "      <td>male</td>\n",
       "      <td>50s</td>\n",
       "    </tr>\n",
       "    <tr>\n",
       "      <th>1</th>\n",
       "      <td>1000000002</td>\n",
       "      <td>male</td>\n",
       "      <td>30s</td>\n",
       "    </tr>\n",
       "    <tr>\n",
       "      <th>2</th>\n",
       "      <td>1000000003</td>\n",
       "      <td>male</td>\n",
       "      <td>50s</td>\n",
       "    </tr>\n",
       "    <tr>\n",
       "      <th>3</th>\n",
       "      <td>1000000004</td>\n",
       "      <td>male</td>\n",
       "      <td>20s</td>\n",
       "    </tr>\n",
       "    <tr>\n",
       "      <th>4</th>\n",
       "      <td>1000000005</td>\n",
       "      <td>female</td>\n",
       "      <td>20s</td>\n",
       "    </tr>\n",
       "    <tr>\n",
       "      <th>...</th>\n",
       "      <td>...</td>\n",
       "      <td>...</td>\n",
       "      <td>...</td>\n",
       "    </tr>\n",
       "    <tr>\n",
       "      <th>5160</th>\n",
       "      <td>7000000015</td>\n",
       "      <td>female</td>\n",
       "      <td>30s</td>\n",
       "    </tr>\n",
       "    <tr>\n",
       "      <th>5161</th>\n",
       "      <td>7000000016</td>\n",
       "      <td>NaN</td>\n",
       "      <td>NaN</td>\n",
       "    </tr>\n",
       "    <tr>\n",
       "      <th>5162</th>\n",
       "      <td>7000000017</td>\n",
       "      <td>NaN</td>\n",
       "      <td>NaN</td>\n",
       "    </tr>\n",
       "    <tr>\n",
       "      <th>5163</th>\n",
       "      <td>7000000018</td>\n",
       "      <td>NaN</td>\n",
       "      <td>NaN</td>\n",
       "    </tr>\n",
       "    <tr>\n",
       "      <th>5164</th>\n",
       "      <td>7000000019</td>\n",
       "      <td>NaN</td>\n",
       "      <td>NaN</td>\n",
       "    </tr>\n",
       "  </tbody>\n",
       "</table>\n",
       "<p>5165 rows × 3 columns</p>\n",
       "</div>"
      ],
      "text/plain": [
       "      patient_id     sex  age\n",
       "0     1000000001    male  50s\n",
       "1     1000000002    male  30s\n",
       "2     1000000003    male  50s\n",
       "3     1000000004    male  20s\n",
       "4     1000000005  female  20s\n",
       "...          ...     ...  ...\n",
       "5160  7000000015  female  30s\n",
       "5161  7000000016     NaN  NaN\n",
       "5162  7000000017     NaN  NaN\n",
       "5163  7000000018     NaN  NaN\n",
       "5164  7000000019     NaN  NaN\n",
       "\n",
       "[5165 rows x 3 columns]"
      ]
     },
     "execution_count": 64,
     "metadata": {},
     "output_type": "execute_result"
    }
   ],
   "source": [
    "df_gptest"
   ]
  },
  {
   "cell_type": "code",
   "execution_count": 65,
   "id": "2b127e83",
   "metadata": {},
   "outputs": [],
   "source": [
    "df.to_excel('clean_patient.xlsx')"
   ]
  }
 ],
 "metadata": {
  "kernelspec": {
   "display_name": "Python 3 (ipykernel)",
   "language": "python",
   "name": "python3"
  },
  "language_info": {
   "codemirror_mode": {
    "name": "ipython",
    "version": 3
   },
   "file_extension": ".py",
   "mimetype": "text/x-python",
   "name": "python",
   "nbconvert_exporter": "python",
   "pygments_lexer": "ipython3",
   "version": "3.9.13"
  }
 },
 "nbformat": 4,
 "nbformat_minor": 5
}
